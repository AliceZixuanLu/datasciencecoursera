{
  "nbformat": 4,
  "nbformat_minor": 0,
  "metadata": {
    "colab": {
      "provenance": [],
      "authorship_tag": "ABX9TyOWHFymPak3P/0a+ms9hti0",
      "include_colab_link": true
    },
    "kernelspec": {
      "name": "python3",
      "display_name": "Python 3"
    },
    "language_info": {
      "name": "python"
    }
  },
  "cells": [
    {
      "cell_type": "markdown",
      "metadata": {
        "id": "view-in-github",
        "colab_type": "text"
      },
      "source": [
        "<a href=\"https://colab.research.google.com/github/AliceZixuanLu/datasciencecoursera/blob/master/final_assignment_of_tools_for_data_science.ipynb\" target=\"_parent\"><img src=\"https://colab.research.google.com/assets/colab-badge.svg\" alt=\"Open In Colab\"/></a>"
      ]
    },
    {
      "cell_type": "markdown",
      "source": [
        "# **Introduction**\n",
        "#I'm a statistics and analytic economic student. I like study data and interested in using python to analysis data.\n"
      ],
      "metadata": {
        "id": "6FWiGShr6-fj"
      }
    },
    {
      "cell_type": "markdown",
      "source": [
        "#some of the popular languages that Data Scientists use are:\n",
        "\n",
        "1.Python\n",
        "\n",
        "2.SQL\n",
        "\n",
        "3.R\n",
        "\n",
        "4.Scala"
      ],
      "metadata": {
        "id": "4y_sIvNq8h6n"
      }
    },
    {
      "cell_type": "markdown",
      "source": [
        "#Some of the commonly used libraries used by Data Scientists include:\n",
        "\n",
        "1.Keras\n",
        "\n",
        "2.scikit-learn\n",
        "\n",
        "3.Tensorflow\n",
        "\n",
        "4.PyTorch"
      ],
      "metadata": {
        "id": "Om6-KdKl8x9B"
      }
    },
    {
      "cell_type": "markdown",
      "source": [
        "| Data science tools|\n",
        "|-------|\n",
        "|Jupyter Notebook|\n",
        "|R Studio|\n",
        "|Zepplin Notebook|\n",
        "\n"
      ],
      "metadata": {
        "id": "qmo7h7rM89lP"
      }
    },
    {
      "cell_type": "markdown",
      "source": [
        "#Below are a few examples of evaluating arithmetic expressions in Python"
      ],
      "metadata": {
        "id": "PuO4hpjm_IC-"
      }
    },
    {
      "cell_type": "code",
      "source": [
        "#This a simple arithmetic expression to mutiply and add integers\n",
        "\n",
        "print((2*3)+4)"
      ],
      "metadata": {
        "colab": {
          "base_uri": "https://localhost:8080/"
        },
        "id": "tRKogedPACsX",
        "outputId": "be6b62a5-f5a5-490e-8178-56f698e47b0e"
      },
      "execution_count": 4,
      "outputs": [
        {
          "output_type": "stream",
          "name": "stdout",
          "text": [
            "10\n"
          ]
        }
      ]
    },
    {
      "cell_type": "markdown",
      "source": [
        "# convert minutes to hours"
      ],
      "metadata": {
        "id": "QJmtxpHtqxk-"
      }
    },
    {
      "cell_type": "code",
      "source": [
        "# This will convert 200 minutes to hours by diving by 60\n",
        "\n",
        "print(180//60,\"hours\",(180%60),\"minutes\")"
      ],
      "metadata": {
        "id": "BiJn5_UQqzRm",
        "colab": {
          "base_uri": "https://localhost:8080/"
        },
        "outputId": "edb341d2-23a5-445a-9bfc-6075394fe295"
      },
      "execution_count": 3,
      "outputs": [
        {
          "output_type": "stream",
          "name": "stdout",
          "text": [
            "3 hours 0 minutes\n"
          ]
        }
      ]
    },
    {
      "cell_type": "code",
      "source": [],
      "metadata": {
        "id": "IsixHFkBAm62"
      },
      "execution_count": null,
      "outputs": []
    },
    {
      "cell_type": "markdown",
      "source": [
        "#List objectives\n",
        "1.List popular Data Science Languages\n",
        "\n",
        "2.List commonly used Data Science libraries\n",
        "\n",
        "3.List Data Science Development Tools\n",
        "\n",
        "4.Examples of Evaluating Arithmetic expressions in Python\n"
      ],
      "metadata": {
        "id": "jJkXbGx0A2iR"
      }
    },
    {
      "cell_type": "markdown",
      "source": [
        "#Author\n",
        "Zixuan Lu"
      ],
      "metadata": {
        "id": "TOazRWrJBOum"
      }
    }
  ]
}